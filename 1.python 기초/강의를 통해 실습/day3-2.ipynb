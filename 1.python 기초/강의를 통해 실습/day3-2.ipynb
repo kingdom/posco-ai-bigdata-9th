{
 "cells": [
  {
   "cell_type": "code",
   "execution_count": 1,
   "metadata": {},
   "outputs": [],
   "source": [
    "f =open(\"new.txt\",\"w\")\n",
    "\n",
    "for i in range(1,6):\n",
    "    data =\"%d line\\n\" %i\n",
    "    f.write(data)\n",
    "\n",
    "\n",
    "\n",
    "f.close()"
   ]
  },
  {
   "cell_type": "code",
   "execution_count": 7,
   "metadata": {},
   "outputs": [],
   "source": [
    "fr=open(\"new.txt\",\"r\")\n",
    "\n",
    "line=fr.readlines()\n",
    "fr.close()"
   ]
  },
  {
   "cell_type": "code",
   "execution_count": 8,
   "metadata": {},
   "outputs": [
    {
     "data": {
      "text/plain": [
       "['1 line\\n', '2 line\\n', '3 line\\n', '4 line\\n', '5 line\\n']"
      ]
     },
     "execution_count": 8,
     "metadata": {},
     "output_type": "execute_result"
    }
   ],
   "source": [
    "line"
   ]
  },
  {
   "cell_type": "code",
   "execution_count": 18,
   "metadata": {},
   "outputs": [],
   "source": [
    "fr =open(\"new.txt\",\"r\")\n",
    "\n",
    "for line in fr:\n",
    "    print(line,end=;)\n"
   ]
  },
  {
   "cell_type": "code",
   "execution_count": 6,
   "metadata": {},
   "outputs": [
    {
     "ename": "IndentationError",
     "evalue": "unindent does not match any outer indentation level (<tokenize>, line 17)",
     "output_type": "error",
     "traceback": [
      "\u001b[0;36m  File \u001b[0;32m\"<tokenize>\"\u001b[0;36m, line \u001b[0;32m17\u001b[0m\n\u001b[0;31m    if dic.keys()==b:\u001b[0m\n\u001b[0m    ^\u001b[0m\n\u001b[0;31mIndentationError\u001b[0m\u001b[0;31m:\u001b[0m unindent does not match any outer indentation level\n"
     ]
    }
   ],
   "source": [
    "dic={}\n",
    "fk =open(\"test.txt\",\"r\")\n",
    "c=[]\n",
    "for line in fk:\n",
    "    a,b=line.split()\n",
    "\n",
    "\n",
    "   \n",
    "    if dic.keys()==a:\n",
    "            dic[a]=dic[a]+1\n",
    "            print(a)\n",
    "            print(\"키증가\")\n",
    "    else :\n",
    "            dic[a]=1\n",
    "            print(a)\n",
    "            print(\"키생성\")\n",
    "    if dic.keys()==b:\n",
    "            dic[b]=dic[b]+1\n",
    "            print(b)\n",
    "            print(\"키증가\")\n",
    "    else :\n",
    "            dic[b]=1\n",
    "            print(b)\n",
    "            print(\"키생성\")\n",
    "print(dic)    \n",
    "fk.close()"
   ]
  },
  {
   "cell_type": "code",
   "execution_count": null,
   "metadata": {},
   "outputs": [],
   "source": []
  },
  {
   "cell_type": "code",
   "execution_count": 46,
   "metadata": {},
   "outputs": [
    {
     "data": {
      "text/plain": [
       "False"
      ]
     },
     "execution_count": 46,
     "metadata": {},
     "output_type": "execute_result"
    }
   ],
   "source": [
    "import os \n",
    "\n",
    "os.path.exists(\"1,txt\")"
   ]
  }
 ],
 "metadata": {
  "kernelspec": {
   "display_name": "Python 3",
   "language": "python",
   "name": "python3"
  },
  "language_info": {
   "codemirror_mode": {
    "name": "ipython",
    "version": 3
   },
   "file_extension": ".py",
   "mimetype": "text/x-python",
   "name": "python",
   "nbconvert_exporter": "python",
   "pygments_lexer": "ipython3",
   "version": "3.7.4"
  }
 },
 "nbformat": 4,
 "nbformat_minor": 2
}
