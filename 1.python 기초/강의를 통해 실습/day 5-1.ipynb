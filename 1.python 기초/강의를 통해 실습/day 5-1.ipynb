{
 "cells": [
  {
   "cell_type": "code",
   "execution_count": 34,
   "metadata": {},
   "outputs": [
    {
     "name": "stdout",
     "output_type": "stream",
     "text": [
      "<class 'numpy.ndarray'>\n",
      "(3,)\n",
      "<class 'tuple'>\n",
      "1 2 3\n",
      "[5 2 3]\n",
      "(2, 3)\n",
      "1 2 4\n"
     ]
    }
   ],
   "source": [
    "\n",
    "import numpy as np\n",
    "a = np.array([1,2,3]) # 1차원 array [1,2,3] 생성\n",
    "print(type(a))\n",
    "print(a.shape)\n",
    "print(type(a.shape))\n",
    "print(a[0], a[1], a[2])\n",
    "a[0] = 5\n",
    "print(a)\n",
    "b = np.array([[1,2,3],[4,5,6]])\n",
    "print(b.shape)\n",
    "print(b[0, 0], b[0, 1], b[1, 0])"
   ]
  },
  {
   "cell_type": "code",
   "execution_count": 38,
   "metadata": {},
   "outputs": [
    {
     "name": "stdout",
     "output_type": "stream",
     "text": [
      "[[0. 0.]\n",
      " [0. 0.]]\n",
      "[[1. 1.]]\n",
      "[[7 7]\n",
      " [7 7]]\n",
      "[[1. 0.]\n",
      " [0. 1.]]\n",
      "[[0.81390873 0.28912663]\n",
      " [0.50044703 0.0680537 ]]\n"
     ]
    }
   ],
   "source": [
    "import numpy as np\n",
    "a = np.zeros((2,2)) # 모든 값이 0인 2x2 array 생성\n",
    "print(a)\n",
    "b = np.ones((1,2)) # 모든 값이 1인 1x2 array 생성\n",
    "print(b)\n",
    "c = np.full((2,2), 7) # 모든 값이 7인 2x2 array 생성\n",
    "print(c)\n",
    "d = np.eye(2) # 2x2 단위행렬(Identity matrix) 생성\n",
    "print(d)\n",
    "e = np.random.random((2,2)) # 0~1 랜덤 값을 가지는 2x2 array 생성\n",
    "print(e)"
   ]
  },
  {
   "cell_type": "code",
   "execution_count": 41,
   "metadata": {},
   "outputs": [
    {
     "name": "stdout",
     "output_type": "stream",
     "text": [
      "[[2 3]\n",
      " [6 7]]\n",
      "2\n",
      "[[ 1 77 77  4]\n",
      " [ 5  6  7  8]\n",
      " [ 9 10 11 12]]\n",
      "77\n"
     ]
    }
   ],
   "source": [
    "import numpy as np\n",
    "a = np.array([[1,2,3,4],[5,6,7,8],[9,10,11,12]])\n",
    "# 첫번째 행의 처음부터 2 앞까지(0,1), 두번째 행에서\n",
    "# 1부터 3 앞까지(1,2)의 값들을 떠와 b에 할당.\n",
    "# 따라서 b 는 다음과 같은 2x2 array:\n",
    "# [[2 3]\n",
    "# [6 7]]\n",
    "b = a[:2, 1:3]\n",
    "print(b)\n",
    "print(a[0, 1])\n",
    "b[0, 0] = 77\n",
    "b[0, 1] = 77\n",
    "print(a)\n",
    "print(a[0, 1])\n",
    "# Slicing을 한다고 해서 값을 복사해가는 것이 아니므로\n",
    "# 값의 변화가 동시에 일어남"
   ]
  },
  {
   "cell_type": "code",
   "execution_count": 42,
   "metadata": {},
   "outputs": [
    {
     "name": "stdout",
     "output_type": "stream",
     "text": [
      "[5 6 7 8] (4,)\n",
      "[[5 6 7 8]] (1, 4)\n",
      "[ 2  6 10] (3,)\n",
      "[[ 2]\n",
      " [ 6]\n",
      " [10]] (3, 1)\n"
     ]
    }
   ],
   "source": [
    "import numpy as np\n",
    "# 2차원 배열(3x4) 생성\n",
    "# [[ 1 2 3 4]\n",
    "# [ 5 6 7 8]\n",
    "# [ 9 10 11 12]]\n",
    "a = np.array([[1,2,3,4],[5,6,7,8],[9,10,11,12]])\n",
    "# 두 번째 행의 값들을 모두 가져오는 두 가지 방법\n",
    "row_r1 = a[1, :] # 1차원 행렬 (4,)\n",
    "row_r2 = a[1:2, :] # 2차원 행렬 (1x4) – 기존 차원 유지\n",
    "print(row_r1, row_r1.shape)\n",
    "print(row_r2, row_r2.shape)\n",
    "# 두 번째 열의 값들을 모두 가져오는 두 가지 방법\n",
    "col_r1 = a[:, 1]\n",
    "col_r2 = a[:, 1:2]\n",
    "print(col_r1, col_r1.shape)\n",
    "print(col_r2, col_r2.shape)"
   ]
  },
  {
   "cell_type": "code",
   "execution_count": 54,
   "metadata": {},
   "outputs": [
    {
     "name": "stdout",
     "output_type": "stream",
     "text": [
      "[1 4 5]\n",
      "<class 'numpy.ndarray'>\n",
      "(3,)\n",
      "[[1 4 5]]\n"
     ]
    }
   ],
   "source": [
    "a = np.array([[1, 2], [3, 4], [5, 6]])\n",
    "b =np.array([a[0,0],a[1,1],a[2,0]])\n",
    "print(b)\n",
    "print(type(b))\n",
    "print(b.shape)\n",
    "\n",
    "print(np.array([a[[0,1,2],[0,1,0]]]))"
   ]
  },
  {
   "cell_type": "code",
   "execution_count": 55,
   "metadata": {},
   "outputs": [
    {
     "name": "stdout",
     "output_type": "stream",
     "text": [
      "[[ 1  2  3]\n",
      " [ 4  5  6]\n",
      " [ 7  8  9]\n",
      " [10 11 12]]\n",
      "[ 1  6  7 11]\n",
      "[[11  2  3]\n",
      " [ 4  5 16]\n",
      " [17  8  9]\n",
      " [10 21 12]]\n"
     ]
    }
   ],
   "source": [
    "import numpy as np\n",
    "# 2차원 배열(4x3) 생성\n",
    "# [[ 1 2 3]\n",
    "# [ 4 5 6]\n",
    "# [ 7 8 9]\n",
    "# [ 10 11 12]]\n",
    "a = np.array([[1,2,3],[4,5,6],[7,8,9],[10,11,12]])\n",
    "print(a)\n",
    "b = np.array([0, 2, 0, 1])\n",
    "print(a[np.arange(4), b]) # [1 6 7 11] #np.array(range(4)) \n",
    "a[np.arange(4), b] += 10\n",
    "print(a) # array([[11, 2, 3],\n",
    "# [ 4, 5, 16],\n",
    "# [17, 8, 9],\n",
    "# [10, 21, 12]])"
   ]
  },
  {
   "cell_type": "code",
   "execution_count": 58,
   "metadata": {},
   "outputs": [
    {
     "name": "stdout",
     "output_type": "stream",
     "text": [
      "int64\n",
      "float64\n",
      "int64\n"
     ]
    }
   ],
   "source": [
    "import numpy as np\n",
    "x = np.array([1, 2])\n",
    "print(x.dtype) # prints “int64”\n",
    "x = np.array([1.0, 2.0])\n",
    "print(x.dtype) # “float64”\n",
    "x = np.array([1, 2], dtype=np.int64) # 데이터타입 명시\n",
    "print(x.dtype) # “int64”"
   ]
  },
  {
   "cell_type": "code",
   "execution_count": 60,
   "metadata": {},
   "outputs": [
    {
     "name": "stdout",
     "output_type": "stream",
     "text": [
      "[[ 6.  8.]\n",
      " [10. 12.]]\n",
      "[[ 6.  8.]\n",
      " [10. 12.]]\n",
      "[[-4. -4.]\n",
      " [-4. -4.]]\n",
      "[[-4. -4.]\n",
      " [-4. -4.]]\n",
      "[[ 5. 12.]\n",
      " [21. 32.]]\n",
      "[[ 5. 12.]\n",
      " [21. 32.]]\n",
      "[[0.2        0.33333333]\n",
      " [0.42857143 0.5       ]]\n",
      "[[0.2        0.33333333]\n",
      " [0.42857143 0.5       ]]\n",
      "[[1.         1.41421356]\n",
      " [1.73205081 2.        ]]\n"
     ]
    }
   ],
   "source": [
    "import numpy as np\n",
    "x = np.array([[1, 2], [3, 4]], dtype=np.float64)\n",
    "y = np.array([[5, 6], [7, 8]], dtype=np.float64)\n",
    "# Elementwise sum\n",
    "# [[ 6.0 8.0]\n",
    "# [10.0 12.0]]\n",
    "print(x + y)\n",
    "print(np.add(x, y))\n",
    "# Elementwise difference\n",
    "# [[-4.0 -4.0]\n",
    "# [-4.0 -4.0]]\n",
    "print(x - y)\n",
    "print(np.subtract(x, y))\n",
    "# Elementwise product\n",
    "# [[ 5.0 12.0]\n",
    "# [21.0 32.0]]\n",
    "print(x * y)\n",
    "print(np.multiply(x, y))\n",
    "# Elementwise division\n",
    "# [[0.2 0.33333333]\n",
    "# [0.42857143 0.5 ]]\n",
    "print(x / y)\n",
    "print(np.divide(x, y))\n",
    "# Elementwise square root\n",
    "# [[1. 1.41421356]\n",
    "# [1.73205081 2. ]]\n",
    "print(np.sqrt(x))"
   ]
  },
  {
   "cell_type": "code",
   "execution_count": 63,
   "metadata": {},
   "outputs": [
    {
     "name": "stdout",
     "output_type": "stream",
     "text": [
      "219\n",
      "219\n",
      "[29 67]\n",
      "[29 67]\n",
      "[[19 22]\n",
      " [43 50]]\n",
      "[[19 22]\n",
      " [43 50]]\n"
     ]
    }
   ],
   "source": [
    "import numpy as np\n",
    "x = np.array([[1, 2], [3, 4]])\n",
    "y = np.array([[5, 6], [7, 8]])\n",
    "v = np.array([9, 10])\n",
    "w = np.array([11, 12])\n",
    "# v · w = 219\n",
    "print(v.dot(w))\n",
    "print(np.dot(v, w))\n",
    "# 매트릭스 / 벡터 곱; [29 67]\n",
    "print(x.dot(v))\n",
    "print(np.dot(x, v))\n",
    "# 매트릭스 / 매트릭스 곱;\n",
    "# [[19 22]\n",
    "# [43 50]]\n",
    "print(x.dot(y))\n",
    "print(np.dot(x, y))"
   ]
  },
  {
   "cell_type": "code",
   "execution_count": 64,
   "metadata": {},
   "outputs": [
    {
     "name": "stdout",
     "output_type": "stream",
     "text": [
      "10\n",
      "[4 6]\n",
      "[3 7]\n"
     ]
    }
   ],
   "source": [
    "import numpy as np\n",
    "x = np.array([[1, 2], [3, 4]])\n",
    "print(np.sum(x)) # 모든 원소의 합\n",
    "print(np.sum(x, axis=0)) # 각 열의 합\n",
    "print(np.sum(x, axis=1)) # 각 행의 합"
   ]
  },
  {
   "cell_type": "code",
   "execution_count": 84,
   "metadata": {},
   "outputs": [
    {
     "name": "stdout",
     "output_type": "stream",
     "text": [
      "[[[1. 1. 1. 1.]\n",
      "  [1. 1. 1. 1.]\n",
      "  [1. 1. 1. 1.]]\n",
      "\n",
      " [[1. 1. 1. 1.]\n",
      "  [1. 1. 1. 1.]\n",
      "  [1. 1. 1. 1.]]]\n",
      "24.0\n",
      "[[2. 2. 2. 2.]\n",
      " [2. 2. 2. 2.]\n",
      " [2. 2. 2. 2.]]\n"
     ]
    }
   ],
   "source": [
    "a=np.ones((2,3,4))\n",
    "print(a)\n",
    "print(np.sum(a))\n",
    "print(np.sum(a,axis=0))"
   ]
  },
  {
   "cell_type": "code",
   "execution_count": 85,
   "metadata": {
    "scrolled": true
   },
   "outputs": [
    {
     "name": "stdout",
     "output_type": "stream",
     "text": [
      "[[1 2]\n",
      " [3 4]]\n",
      "[[1 3]\n",
      " [2 4]]\n",
      "[1 2 3]\n",
      "[1 2 3]\n"
     ]
    }
   ],
   "source": [
    "import numpy as np\n",
    "x = np.array([[1, 2], [3, 4]])\n",
    "print(x)\n",
    "print(x.T) \n",
    "# 전치행렬 (Transposed mat.)\n",
    "v = np.array([1,2,3])\n",
    "print(v) # prints “[1 2 3]”\n",
    "print(v.T) # prints “[1 2 3]”"
   ]
  },
  {
   "cell_type": "code",
   "execution_count": 89,
   "metadata": {},
   "outputs": [
    {
     "name": "stdout",
     "output_type": "stream",
     "text": [
      "[[ 2  2  4]\n",
      " [ 5  5  7]\n",
      " [ 8  8 10]\n",
      " [11 11 13]]\n"
     ]
    }
   ],
   "source": [
    "import numpy as np\n",
    "x = np.array([[1,2,3], [4,5,6], [7,8,9], [10,11,12]])\n",
    "v = np.array([1,0,1])\n",
    "y = np.empty_like(x) # x와 같은 shape의 빈 매트릭스 만들기\n",
    "# x의 각 행에 v와 elementwise 합을 하여 y의 해당 행에 할당\n",
    "for i in range(4):\n",
    "    y[i] = x[i] + v\n",
    "# [[ 2 2 4]\n",
    "# [[ 5 5 7]\n",
    "# [[ 8 8 10]\n",
    "# [ 11 11 13]]\n",
    "print(y)"
   ]
  },
  {
   "cell_type": "code",
   "execution_count": 91,
   "metadata": {},
   "outputs": [
    {
     "name": "stdout",
     "output_type": "stream",
     "text": [
      "(3, 1)\n",
      "[1 2 3]\n",
      "[[1]\n",
      " [2]\n",
      " [3]]\n"
     ]
    }
   ],
   "source": [
    "a=np.array([1,2,3])\n",
    "a1=a.reshape([3,1])\n",
    "print(a1.shape)\n",
    "print(a)\n",
    "print(a1)"
   ]
  },
  {
   "cell_type": "code",
   "execution_count": 121,
   "metadata": {},
   "outputs": [
    {
     "name": "stdout",
     "output_type": "stream",
     "text": [
      "[[-1.  1.]\n",
      " [ 2. -1.]]\n",
      "[15 25]\n",
      "[[-15.  25.]\n",
      " [ 30. -25.]]\n",
      "[10.  5.]\n"
     ]
    }
   ],
   "source": [
    "a=np.array([[1,1],[2,1]])\n",
    "b=np.array([15,25])\n",
    "c=np.linalg.inv(a)\n",
    "print(c)\n",
    "print(b)\n",
    "k=np.multiply(b, c)\n",
    "print(k)\n",
    "print(np.sum(k, axis=1))\n",
    "\n"
   ]
  },
  {
   "cell_type": "code",
   "execution_count": 122,
   "metadata": {},
   "outputs": [
    {
     "name": "stdout",
     "output_type": "stream",
     "text": [
      "[[-1.  1.]\n",
      " [ 2. -1.]]\n",
      "[[15]\n",
      " [25]]\n",
      "[[-15.  15.]\n",
      " [ 50. -25.]]\n",
      "[ 35. -10.]\n"
     ]
    }
   ],
   "source": [
    "a=np.array([[1,1],[2,1]])\n",
    "b=np.array([[15],[25]])\n",
    "c=np.linalg.inv(a)\n",
    "print(c)\n",
    "print(b)\n",
    "k=np.multiply(b, c)\n",
    "print(k)\n",
    "print(np.sum(k, axis=0))"
   ]
  }
 ],
 "metadata": {
  "kernelspec": {
   "display_name": "Python 3",
   "language": "python",
   "name": "python3"
  },
  "language_info": {
   "codemirror_mode": {
    "name": "ipython",
    "version": 3
   },
   "file_extension": ".py",
   "mimetype": "text/x-python",
   "name": "python",
   "nbconvert_exporter": "python",
   "pygments_lexer": "ipython3",
   "version": "3.7.4"
  }
 },
 "nbformat": 4,
 "nbformat_minor": 2
}
