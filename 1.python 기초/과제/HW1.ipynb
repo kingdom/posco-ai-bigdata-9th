{
 "cells": [
  {
   "cell_type": "markdown",
   "metadata": {},
   "source": [
    "# 과제 1"
   ]
  },
  {
   "cell_type": "markdown",
   "metadata": {},
   "source": [
    "                                                    정대영"
   ]
  },
  {
   "cell_type": "markdown",
   "metadata": {},
   "source": [
    "# 문제1\n"
   ]
  },
  {
   "cell_type": "code",
   "execution_count": 19,
   "metadata": {
    "scrolled": true
   },
   "outputs": [
    {
     "name": "stdout",
     "output_type": "stream",
     "text": [
      "화씨온도: 100\n",
      "섭씨온도: 37.77777777777778\n"
     ]
    }
   ],
   "source": [
    "f=int(input(\"화씨온도: \"))\n",
    "c=(f-32)*5/9\n",
    "print(\"섭씨온도: %s\" %c)"
   ]
  },
  {
   "cell_type": "markdown",
   "metadata": {},
   "source": [
    "# 문제2"
   ]
  },
  {
   "cell_type": "code",
   "execution_count": 20,
   "metadata": {},
   "outputs": [
    {
     "name": "stdout",
     "output_type": "stream",
     "text": [
      "투입한 돈:5000\n",
      "물건 값:2700\n",
      "거스름돈:2300\n",
      "500원짜리:4\n",
      "100원짜리:3\n"
     ]
    }
   ],
   "source": [
    "ind=int(input(\"투입한 돈:\"))\n",
    "price=int(input(\"물건 값:\"))\n",
    "result=ind-price\n",
    "print(\"거스름돈:%s\" %result)\n",
    "o=result//500\n",
    "print(\"500원짜리:%s\" %o)\n",
    "b=(result-(500*o))//100\n",
    "print(\"100원짜리:%s\" %b)"
   ]
  },
  {
   "cell_type": "markdown",
   "metadata": {},
   "source": [
    "# 문제 3"
   ]
  },
  {
   "cell_type": "code",
   "execution_count": 1,
   "metadata": {},
   "outputs": [
    {
     "name": "stdout",
     "output_type": "stream",
     "text": [
      "반지름을 입력하시오: 5\n",
      "원 둘레: 31.41592 \n",
      "원 넓이: 78.5398 \n"
     ]
    }
   ],
   "source": [
    "r=int(input(\"반지름을 입력하시오: \"))\n",
    "r2=r*2*3.141592\n",
    "r3=r*r*3.141592\n",
    "print(\"원 둘레: %s \" %r2)\n",
    "print(\"원 넓이: %s \" %r3)"
   ]
  },
  {
   "cell_type": "markdown",
   "metadata": {},
   "source": [
    "# 문제 5"
   ]
  },
  {
   "cell_type": "code",
   "execution_count": 12,
   "metadata": {},
   "outputs": [
    {
     "name": "stdout",
     "output_type": "stream",
     "text": [
      "Enter two integers: 8 5\n",
      "8+5=13\n",
      "8-5=3\n",
      "8*5=40\n",
      "8/5=1.6\n",
      "8%5=3\n"
     ]
    }
   ],
   "source": [
    "a, b= input('Enter two integers: ').split()\n",
    "a=int(a)\n",
    "b=int(b)\n",
    "print(\"{0}+{1}={2}\".format(a,b,a+b))\n",
    "print(\"{0}-{1}={2}\".format(a,b,a-b))\n",
    "print(\"{0}*{1}={2}\".format(a,b,a*b))\n",
    "print(\"{0}/{1}={2}\".format(a,b,a/b))\n",
    "print(\"{0}%{1}={2}\".format(a,b,a%b))"
   ]
  },
  {
   "cell_type": "markdown",
   "metadata": {},
   "source": [
    "# 문제 6"
   ]
  },
  {
   "cell_type": "code",
   "execution_count": 17,
   "metadata": {},
   "outputs": [
    {
     "name": "stdout",
     "output_type": "stream",
     "text": [
      "Enter two integers: 70 91\n",
      "The Sum of 70 and 91 is 161\n",
      "The average of numbers is 80.5\n"
     ]
    }
   ],
   "source": [
    "a, b= input('Enter two integers: ').split()\n",
    "a=int(a)\n",
    "b=int(b)\n",
    "print(\"The Sum of {0} and {1} is {2}\".format(a,b,a+b))\n",
    "print(\"The average of numbers is {0}\".format((a+b)/2))"
   ]
  },
  {
   "cell_type": "code",
   "execution_count": null,
   "metadata": {},
   "outputs": [],
   "source": []
  }
 ],
 "metadata": {
  "kernelspec": {
   "display_name": "Python 3",
   "language": "python",
   "name": "python3"
  },
  "language_info": {
   "codemirror_mode": {
    "name": "ipython",
    "version": 3
   },
   "file_extension": ".py",
   "mimetype": "text/x-python",
   "name": "python",
   "nbconvert_exporter": "python",
   "pygments_lexer": "ipython3",
   "version": "3.7.4"
  }
 },
 "nbformat": 4,
 "nbformat_minor": 2
}
