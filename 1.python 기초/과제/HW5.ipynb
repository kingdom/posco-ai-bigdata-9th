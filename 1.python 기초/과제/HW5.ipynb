{
 "cells": [
  {
   "cell_type": "markdown",
   "metadata": {},
   "source": [
    "# 과제 3 – and_op.py\n",
    " AND 논리 연산 기능을 위한 W, b를 선언하고, W · x + b 연산\n",
    "을 하여 그 결과 값을 출력하라\n",
    " x가 가지는 두 값에 대한 AND 연산을 f(W · x + b) 로 표현가능\n",
    " x가 (1,1) 일 때, f(W · x + b) = 1\n",
    " x가 (0,0), (0,1), (1,0) 일 때, f(W · x + b) = 0"
   ]
  },
  {
   "cell_type": "code",
   "execution_count": 6,
   "metadata": {},
   "outputs": [
    {
     "name": "stdout",
     "output_type": "stream",
     "text": [
      "[[4 0]\n",
      " [6 4]]\n",
      "[9 5]\n"
     ]
    }
   ],
   "source": [
    "import numpy as np\n",
    "\n",
    "x1 = np.array([0,0])\n",
    "x2 = np.array([0,1])\n",
    "x3 = np.array([1,0])\n",
    "x4 = np.array([1,1])\n",
    "\n",
    "while 1:\n",
    "    w =np.random.randint(0, 10, (2, 2), dtype=int)\n",
    "    b =np.random.randint(0, 10, (2,), dtype=int)\n",
    "    k=w.dot(x1)\n",
    "    k2=w.dot(x2)\n",
    "    k3=w.dot(x3)\n",
    "    k4=w.dot(x4)\n",
    "    if np.argmax(k+b)==0 and np.argmax(k2+b)==0 and np.argmax(k3+b)==0 and np.argmax(k4+b)==1 :\n",
    "        print(w)\n",
    "        print(b)\n",
    "        break\n"
   ]
  }
 ],
 "metadata": {
  "kernelspec": {
   "display_name": "Python 3",
   "language": "python",
   "name": "python3"
  },
  "language_info": {
   "codemirror_mode": {
    "name": "ipython",
    "version": 3
   },
   "file_extension": ".py",
   "mimetype": "text/x-python",
   "name": "python",
   "nbconvert_exporter": "python",
   "pygments_lexer": "ipython3",
   "version": "3.7.4"
  }
 },
 "nbformat": 4,
 "nbformat_minor": 2
}
