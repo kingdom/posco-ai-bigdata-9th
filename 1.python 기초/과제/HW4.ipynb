{
 "cells": [
  {
   "cell_type": "markdown",
   "metadata": {},
   "source": [
    "# 1.파일 "
   ]
  },
  {
   "cell_type": "markdown",
   "metadata": {},
   "source": [
    "# 실습1) – PPT 자료\n",
    "파일에 있는 각각의 단어 수 구하기"
   ]
  },
  {
   "cell_type": "code",
   "execution_count": 62,
   "metadata": {},
   "outputs": [
    {
     "name": "stdout",
     "output_type": "stream",
     "text": [
      "first 1\n",
      "line 3\n",
      "second 1\n",
      "third 1\n"
     ]
    }
   ],
   "source": [
    "dic={}\n",
    "fk =open(\"test.txt\",\"r\")\n",
    "c=[]\n",
    "for line in fk:\n",
    "    a,b=line.split()\n",
    "    c=[a]\n",
    "    d=[b]\n",
    "    for k in c:     \n",
    "        if  k in dic:\n",
    "            dic[k]=dic[k]+1\n",
    "        else :\n",
    "            dic[k]=1\n",
    "    for k in d:       \n",
    "        if  k in dic:\n",
    "            dic[k]=dic[k]+1\n",
    "        else :\n",
    "            dic[k]=1\n",
    "            \n",
    "for i in dic:\n",
    "    print(i,dic[i])\n",
    "fk.close()"
   ]
  },
  {
   "cell_type": "code",
   "execution_count": 3,
   "metadata": {},
   "outputs": [
    {
     "name": "stdout",
     "output_type": "stream",
     "text": [
      "['first', 'line']\n",
      "['second', 'line']\n",
      "['third', 'line']\n"
     ]
    }
   ],
   "source": [
    "dic={}\n",
    "fk =open(\"test.txt\",\"r\")\n",
    "c=[]\n",
    "for line in fk:\n",
    "    s=line.split()\n",
    "    \n",
    "    \n",
    "    \n",
    "for i in dic:\n",
    "    print(i,dic[i])\n",
    "fk.close()"
   ]
  },
  {
   "cell_type": "markdown",
   "metadata": {},
   "source": [
    "## 실습2) – PPT 자료\n",
    "파일명을 입력 받아, 해당 파일을 한 줄씩 읽어 파일의 내용을 모두 대문자로 출력하는 프로그램을 작성하시오"
   ]
  },
  {
   "cell_type": "code",
   "execution_count": 11,
   "metadata": {},
   "outputs": [
    {
     "name": "stdout",
     "output_type": "stream",
     "text": [
      "Enter a file name: test.txt\n",
      "FIRST LINE\n",
      "\n",
      "SECOND LINE\n",
      "\n",
      "THIRD LINE\n"
     ]
    }
   ],
   "source": [
    "name=input(\"Enter a file name: \")\n",
    "dic={}\n",
    "fk =open(name,\"r\")\n",
    "c=[]\n",
    "for line in fk:\n",
    "    print(line.upper())\n",
    "    \n",
    "fk.close()"
   ]
  },
  {
   "cell_type": "code",
   "execution_count": 6,
   "metadata": {},
   "outputs": [
    {
     "name": "stdout",
     "output_type": "stream",
     "text": [
      "Enter a file name: test.txt\n",
      "FIRST LINE\n",
      "\n",
      "SECOND LINE\n",
      "\n",
      "THIRD LINE\n"
     ]
    }
   ],
   "source": [
    "name=input(\"Enter a file name: \")\n",
    "dic={}\n",
    "fk=open(name,\"r\")\n",
    "c=[]\n",
    "for line in fk:\n",
    "    print(line.upper())\n",
    "fk.close()"
   ]
  },
  {
   "cell_type": "markdown",
   "metadata": {},
   "source": [
    "## 실습4) 아래의 score.txt를 읽어서 학생들의 성적을 처리하여 그 결과를 report.txt로 출력하는 프로그램을 작성하시오."
   ]
  },
  {
   "cell_type": "code",
   "execution_count": 64,
   "metadata": {},
   "outputs": [],
   "source": [
    "fk =open(\"score.txt\",\"r\")\n",
    "c=[]\n",
    "su=0\n",
    "tt=open(\"report.txt\",\"w\")\n",
    "\n",
    "for line in fk:\n",
    "    a,b,c=line.split()\n",
    "       \n",
    "    tt=open(\"report.txt\",\"a\")\n",
    "    tt.write(a)\n",
    "    tt.write(\" \")\n",
    "    tt.write(b)\n",
    "    tt.write(\" \")\n",
    "    tt.write(c)\n",
    "    tt.write(\" \")\n",
    "    \n",
    "    b=int(b)\n",
    "    c=int(c)\n",
    "    su=b*0.4+c*0.6\n",
    "    su=str(su)\n",
    "    tt.write(su)\n",
    "    su=float(su)\n",
    "    if su>=90:\n",
    "        tt.write(\"(A)\")\n",
    "    if su<90 and su>=80:\n",
    "        tt.write(\"(B)\")\n",
    "    if su<80 and su>=70:\n",
    "        tt.write(\"(C)\")\n",
    "    if su<70 and su>=60:\n",
    "        tt.write(\"(D)\")\n",
    "    if su<60:\n",
    "        tt.write(\"(F)\")\n",
    "\n",
    "    tt.write(\"\\n\")\n",
    "\n",
    "fk.close()\n",
    "tt.close()"
   ]
  },
  {
   "cell_type": "markdown",
   "metadata": {},
   "source": [
    "# Set 클래스 구현\n",
    " list를 이용해 Set 구현\n",
    " Set은 list와 다르게, 같은 원소를 중복하여 가질 수 없음\n",
    " Union, Intersection, Difference 함수 구현"
   ]
  },
  {
   "cell_type": "code",
   "execution_count": 114,
   "metadata": {
    "scrolled": true
   },
   "outputs": [
    {
     "name": "stdout",
     "output_type": "stream",
     "text": [
      "[1, 2, 3]\n",
      "<class '__main__.Set'>\n",
      "[2, 3, 4]\n",
      "[2, 3, 4]\n",
      "<class '__main__.Set'>\n"
     ]
    }
   ],
   "source": [
    "class Set: \n",
    "    def __init__(self, member=[]):\n",
    "        self.member=member\n",
    "        \n",
    "    def append(self, a):\n",
    "        self.member.append(a)\n",
    "    def delete(self, a):\n",
    "        self.member.remove(a)\n",
    "    def union(self, s2):\n",
    "            print(s2)\n",
    "            print(type(s2))\n",
    "#             for j in self.member:\n",
    "#                 if j==i:\n",
    "#                     continue\n",
    "#                 else :\n",
    "#                     self.member.append(i)\n",
    "        \n",
    "#     def intersection(self, s2):\n",
    "\n",
    "#     def difference(self, s2):\n",
    "        \n",
    "        \n",
    "    def __str__(self):       \n",
    "        return \"{}\".format(self.member)\n",
    "\n",
    "a =Set([1, 2, 3])\n",
    "print(a)\n",
    "print(type(a))\n",
    "\n",
    "b =Set([2, 3, 4])\n",
    "print(b)\n",
    "c = a.union(b)\n",
    "# print(c)\n",
    "# d = a.difference(b)\n",
    "# print(d)\n",
    "# e = a.intersection(b)\n",
    "# print(e)\n",
    "\n",
    "# a = Set([1, 2, 3])\n",
    "# b = Set([2, 3, 4])\n",
    "# c = a + b\n",
    "# print(c)\n",
    "# d = a - b\n",
    "# print(d)\n",
    "# e = a / b\n",
    "# print(e)"
   ]
  },
  {
   "cell_type": "code",
   "execution_count": 91,
   "metadata": {},
   "outputs": [
    {
     "name": "stdout",
     "output_type": "stream",
     "text": [
      "[1, 2, 3, 4, 5, 6]\n",
      "asdf\n",
      "asdf\n",
      "[1, 2, 3, 4, 5, 6, 5]\n",
      "[1, 2, 3, 4, 5, 6, 5, 6]\n",
      "[1, 2, 3, 4, 5, 6, 5, 6, 7]\n"
     ]
    }
   ],
   "source": [
    "i=[1,2,3,4,5,6]\n",
    "j=[5,6,7]\n",
    "print(\"{}\".format(i))\n",
    "for k in j:\n",
    "    for kk in i:\n",
    "        if kk==k:\n",
    "            print(\"asdf\")\n",
    "for qq in j:    \n",
    "    i.append(qq)\n",
    "    print(i)"
   ]
  }
 ],
 "metadata": {
  "kernelspec": {
   "display_name": "Python 3",
   "language": "python",
   "name": "python3"
  },
  "language_info": {
   "codemirror_mode": {
    "name": "ipython",
    "version": 3
   },
   "file_extension": ".py",
   "mimetype": "text/x-python",
   "name": "python",
   "nbconvert_exporter": "python",
   "pygments_lexer": "ipython3",
   "version": "3.7.4"
  }
 },
 "nbformat": 4,
 "nbformat_minor": 2
}
