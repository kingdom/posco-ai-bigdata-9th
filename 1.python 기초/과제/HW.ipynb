{
 "cells": [
  {
   "cell_type": "markdown",
   "metadata": {},
   "source": [
    "# 과제 1 – prime.py\n",
    " 소수(Prime Number) 판단하는 함수 정의하기"
   ]
  },
  {
   "cell_type": "code",
   "execution_count": 182,
   "metadata": {},
   "outputs": [
    {
     "name": "stdout",
     "output_type": "stream",
     "text": [
      "11는 소수입니다.\n",
      "15는 소수가 아닙니다.\n"
     ]
    }
   ],
   "source": [
    "def check_prime(num):\n",
    "    u=1\n",
    "    for i in range(2,num):       \n",
    "        if num%i==0:     \n",
    "            u=0\n",
    "            break\n",
    "    return u\n",
    "    \n",
    "def main():\n",
    "    a = 11\n",
    "    b = 15\n",
    "    if check_prime(a):\n",
    "        \n",
    "        print(str(a)+'는 소수입니다.')\n",
    "    else:\n",
    "        print(str(a)+'는 소수가 아닙니다.')\n",
    "    if check_prime(b):\n",
    "        print(str(b)+'는 소수입니다.')\n",
    "    else:\n",
    "        print(str(b)+'는 소수가 아닙니다.')\n",
    "main()"
   ]
  },
  {
   "cell_type": "markdown",
   "metadata": {},
   "source": [
    "# 과제 2 – add_comma.py\n",
    " 천 단위마다 쉼표(,) 추가하는 함수 정의하기\n",
    " 1000000(int)이면, ‘1,000,000’(str) 반환"
   ]
  },
  {
   "cell_type": "code",
   "execution_count": 28,
   "metadata": {},
   "outputs": [
    {
     "name": "stdout",
     "output_type": "stream",
     "text": [
      "1234\n",
      "12345678\n",
      "12\n"
     ]
    }
   ],
   "source": [
    "def add_comma(val):\n",
    "    val=str(val)\n",
    "    l=len(val)//3\n",
    "    a=val\n",
    "    for i in range(1,l):\n",
    "        i=i*3       \n",
    "        if l>3:\n",
    "            a=a[0:i]+\",\"+a[-i:]\n",
    "        else: \n",
    "            break\n",
    "    return a\n",
    "    \n",
    "def main():\n",
    "    comma_added_1234 = add_comma(1234)\n",
    "    comma_added_12345678 = add_comma(12345678)\n",
    "    comma_added_12 = add_comma(12)\n",
    "    print(comma_added_1234) # ‘1,234’\n",
    "    print(comma_added_12345678) # ‘12,345,678’\n",
    "    print(comma_added_12) # ‘12\n",
    "main()"
   ]
  },
  {
   "cell_type": "code",
   "execution_count": 31,
   "metadata": {},
   "outputs": [
    {
     "name": "stdout",
     "output_type": "stream",
     "text": [
      "['1']\n",
      "['1', '2']\n",
      "['1', '2', '3']\n",
      "['1', '2', '3', '4']\n",
      "['1']\n",
      "['1', '2']\n",
      "['1', '2', '3']\n",
      "['1', '2', '3', '4']\n",
      "['1', '2', '3', '4', '5']\n",
      "['1', '2', '3', '4', '5', '6']\n",
      "['1', '2', '3', '4', '5', '6', '7']\n",
      "['1', '2', '3', '4', '5', '6', '7', '8']\n",
      "['1']\n",
      "['1', '2']\n",
      "None\n",
      "None\n",
      "None\n"
     ]
    }
   ],
   "source": [
    "def add_comma(val):\n",
    "    val=str(val)\n",
    "    a=[]\n",
    "    for i in val:\n",
    "        a.append(i)\n",
    "        print(a)\n",
    "    \n",
    "def main():\n",
    "    comma_added_1234 = add_comma(1234)\n",
    "    comma_added_12345678 = add_comma(12345678)\n",
    "    comma_added_12 = add_comma(12)\n",
    "    print(comma_added_1234) # ‘1,234’\n",
    "    print(comma_added_12345678) # ‘12,345,678’\n",
    "    print(comma_added_12) # ‘12\n",
    "main()"
   ]
  },
  {
   "cell_type": "code",
   "execution_count": 309,
   "metadata": {},
   "outputs": [
    {
     "name": "stdout",
     "output_type": "stream",
     "text": [
      "9\n",
      "1234,567,899,999\n",
      "1234567899\n"
     ]
    }
   ],
   "source": [
    "s=\"1234567899999\"\n",
    "\n",
    "print(s[-3])\n",
    "a=s[0:-3]+\",\"+s[-3:]\n",
    "a=a[0:-7]+\",\"+a[-7:]\n",
    "a=a[0:-11]+\",\"+a[-11:]\n",
    "print(a)\n",
    "print(s[0:-3])"
   ]
  },
  {
   "cell_type": "markdown",
   "metadata": {},
   "source": [
    "# 과제 3 – tok.py\n",
    " 입력받은 단어열의 n-gram을 구해주는 tokenize() 함수 정의하기"
   ]
  },
  {
   "cell_type": "code",
   "execution_count": null,
   "metadata": {},
   "outputs": [],
   "source": [
    "def tokenize(trg, N=1):\n",
    "\n",
    "    \n",
    "    \n",
    "\n",
    "\n",
    "def main():\n",
    "    a=“There was a farmer who had a dog .”\n",
    "    print(tokenize(a))\n",
    "    print(tokenize(a, 2))"
   ]
  },
  {
   "cell_type": "markdown",
   "metadata": {},
   "source": [
    "# 과제 4 – mean_and_var.py\n",
    " 여러 벡터를 입력받아, 평균(Mean)과 분산\n",
    "(Variance)을 구하는 함수 정의하기"
   ]
  },
  {
   "cell_type": "code",
   "execution_count": 245,
   "metadata": {},
   "outputs": [
    {
     "name": "stdout",
     "output_type": "stream",
     "text": [
      "(0.5, 0.5)\n"
     ]
    }
   ],
   "source": [
    "\n",
    "def mean_and_var(*val):\n",
    "    su1=[]\n",
    "    su2=[]\n",
    "    avg=()\n",
    "    \n",
    "    for i,j in val:       \n",
    "        su1.append(i)\n",
    "    k=sum(su1)/len(su1)\n",
    "    k1=sum(su1)/len(su1)               \n",
    "    avg=(k,k1)\n",
    "    print(avg)\n",
    "    \n",
    "    return avg\n",
    "\n",
    "def main():\n",
    "    v1=(0, 1)\n",
    "    v2=(0.5, 0.5)\n",
    "    v3=(1, 0)\n",
    "    mean_and_var(v1, v2, v3)\n",
    "   # print('평균: ', m, '분산: ', var)\n",
    "    \n",
    "main()"
   ]
  }
 ],
 "metadata": {
  "kernelspec": {
   "display_name": "Python 3",
   "language": "python",
   "name": "python3"
  },
  "language_info": {
   "codemirror_mode": {
    "name": "ipython",
    "version": 3
   },
   "file_extension": ".py",
   "mimetype": "text/x-python",
   "name": "python",
   "nbconvert_exporter": "python",
   "pygments_lexer": "ipython3",
   "version": "3.7.4"
  }
 },
 "nbformat": 4,
 "nbformat_minor": 2
}
