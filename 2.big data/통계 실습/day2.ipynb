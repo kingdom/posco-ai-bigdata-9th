{
 "cells": [
  {
   "cell_type": "code",
   "execution_count": 1,
   "metadata": {},
   "outputs": [],
   "source": [
    "import numpy as np\n",
    "from scipy import stats\n",
    "import scipy.stats\n",
    "import pandas as pd\n",
    "import statsmodels.api as sm\n",
    "import matplotlib.pyplot as plt\n",
    "import seaborn as sns\n",
    "from statsmodels.stats.proportion import proportions_ztest"
   ]
  },
  {
   "cell_type": "code",
   "execution_count": 3,
   "metadata": {},
   "outputs": [
    {
     "name": "stdout",
     "output_type": "stream",
     "text": [
      "P(X=0=0.168)\n",
      "P(X=1=0.360)\n",
      "P(X=2=0.309)\n",
      "P(X=3=0.132)\n",
      "P(X=4=0.028)\n",
      "P(X=5=0.002)\n"
     ]
    }
   ],
   "source": [
    "n=5\n",
    "for i in range(n+1):\n",
    "    prob=stats.binom.pmf(k=i,n=n,p=0.3)\n",
    "    print(\"P(X={0}={1:.3f})\".format(i,prob))"
   ]
  },
  {
   "cell_type": "code",
   "execution_count": 9,
   "metadata": {},
   "outputs": [
    {
     "name": "stdout",
     "output_type": "stream",
     "text": [
      "1분당 3번의 전화가 걸려올 확률:18.0\n",
      "1분당 최대 2회 이하의 전화가 걸려올 확률:67.7\n",
      "1분당 최대 2회 이상의 전화가 걸려올 확률:32.3\n"
     ]
    }
   ],
   "source": [
    "mu=2\n",
    "prob=stats.poisson.pmf(3,mu)\n",
    "cdf_prob=stats.poisson.cdf(2,mu)\n",
    "print(\"1분당 {0}번의 전화가 걸려올 확률:{1:.1f}\".format(3,prob*100))\n",
    "print(\"1분당 최대 {0}회 이하의 전화가 걸려올 확률:{1:.1f}\".format(2,cdf_prob*100))\n",
    "print(\"1분당 최대 {0}회 이상의 전화가 걸려올 확률:{1:.1f}\".format(2,(1-cdf_prob)*100))"
   ]
  },
  {
   "cell_type": "code",
   "execution_count": 12,
   "metadata": {},
   "outputs": [
    {
     "name": "stdout",
     "output_type": "stream",
     "text": [
      "1분당 3번의 전화가 걸려올 확률:18.0\n",
      "1분당 최대 2회 이하의 전화가 걸려올 확률:67.7\n",
      "1분당 최대 2회 이상의 전화가 걸려올 확률:32.3\n"
     ]
    }
   ],
   "source": [
    "mu=3\n",
    "prob=stats.poisson.pmf(3,mu)\n",
    "cdf_prob=stats.poisson.cdf(2,mu)\n",
    "print(\"1분당 {0}번의 전화가 걸려올 확률:{1:.1f}\".format(3,prob*100))\n",
    "print(\"1분당 최대 {0}회 이하의 전화가 걸려올 확률:{1:.1f}\".format(2,cdf_prob*100))\n",
    "print(\"1분당 최대 {0}회 이상의 전화가 걸려올 확률:{1:.1f}\".format(2,(1-cdf_prob)*100))"
   ]
  },
  {
   "cell_type": "code",
   "execution_count": 17,
   "metadata": {},
   "outputs": [
    {
     "name": "stdout",
     "output_type": "stream",
     "text": [
      "b'Hello'\n"
     ]
    }
   ],
   "source": [
    "import tensorflow.compat.v1 as tf\n",
    "tf.disable_v2_behavior()\n",
    "hello=tf.constant(\"Hello\")\n",
    "sess=tf.Session()\n",
    "print(sess.run(hello))\n"
   ]
  },
  {
   "cell_type": "code",
   "execution_count": 102,
   "metadata": {},
   "outputs": [
    {
     "data": {
      "text/plain": [
       "-2.262157162740992"
      ]
     },
     "execution_count": 102,
     "metadata": {},
     "output_type": "execute_result"
    }
   ],
   "source": [
    "prop=stats.t.ppf(0.025,9)\n",
    "prop"
   ]
  },
  {
   "cell_type": "code",
   "execution_count": 117,
   "metadata": {},
   "outputs": [
    {
     "name": "stdout",
     "output_type": "stream",
     "text": [
      "1-Sample t-test\n",
      "t통계량:[0.864]\n",
      "p-value:[0.41]\n"
     ]
    }
   ],
   "source": [
    "df=pd.DataFrame({'sample':[74.5,81.2,73.8,82.0,76.3,75.7,80.2,72.6,77.9,82.8]})\n",
    "shapiro(df)\n",
    "t_result=stats.ttest_1samp(df,76.7)\n",
    "t,p=t_result.statistic.round(3),t_result.pvalue.round(3)\n",
    "print(\"1-Sample t-test\")\n",
    "print(\"t통계량:{}\".format(t))\n",
    "print(\"p-value:{}\".format(p))"
   ]
  },
  {
   "cell_type": "code",
   "execution_count": 120,
   "metadata": {},
   "outputs": [
    {
     "name": "stdout",
     "output_type": "stream",
     "text": [
      "1-Sample t-test\n",
      "t통계량:[3.379]\n",
      "p-value:[0.008]\n"
     ]
    }
   ],
   "source": [
    "df=pd.DataFrame({'sample':[85.0,79.0,79.1,79.9,81.6,78.6,85.4,83.4,78.1,79.2]})\n",
    "shapiro(df)\n",
    "t_result=stats.ttest_1samp(df,78.0)\n",
    "t,p=t_result.statistic.round(3),t_result.pvalue.round(3)\n",
    "print(\"1-Sample t-test\")\n",
    "print(\"t통계량:{}\".format(t))\n",
    "print(\"p-value:{}\".format(p))"
   ]
  },
  {
   "cell_type": "markdown",
   "metadata": {},
   "source": []
  }
 ],
 "metadata": {
  "kernelspec": {
   "display_name": "Python 3",
   "language": "python",
   "name": "python3"
  },
  "language_info": {
   "codemirror_mode": {
    "name": "ipython",
    "version": 3
   },
   "file_extension": ".py",
   "mimetype": "text/x-python",
   "name": "python",
   "nbconvert_exporter": "python",
   "pygments_lexer": "ipython3",
   "version": "3.7.4"
  }
 },
 "nbformat": 4,
 "nbformat_minor": 2
}
