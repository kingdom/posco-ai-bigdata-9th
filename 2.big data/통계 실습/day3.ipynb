{
 "cells": [
  {
   "cell_type": "code",
   "execution_count": 10,
   "metadata": {},
   "outputs": [],
   "source": [
    "import numpy as np\n",
    "from scipy import stats\n",
    "import scipy.stats\n",
    "import pandas as pd\n",
    "import statsmodels.api as sm\n",
    "import matplotlib.pyplot as plt\n",
    "import seaborn as sns\n",
    "from statsmodels.stats.proportion import proportions_ztest\n",
    "from scipy.stats import shapiro"
   ]
  },
  {
   "cell_type": "code",
   "execution_count": 6,
   "metadata": {},
   "outputs": [
    {
     "data": {
      "text/plain": [
       "(0.9094840288162231, 0.06230909377336502)"
      ]
     },
     "execution_count": 6,
     "metadata": {},
     "output_type": "execute_result"
    }
   ],
   "source": [
    "df1=pd.DataFrame({'sample':[6,5,5,4,6,7,6,4,5,6,4,5,5,6,4,8,6,5,6,7]})\n",
    "df2=pd.DataFrame({'sample':[7,5,7,8,7,8,8,5,7,6,5,5,6,6,5,7,9,7,7,8]})\n",
    "\n",
    "shapiro(df1)\n",
    "\n"
   ]
  },
  {
   "cell_type": "code",
   "execution_count": 7,
   "metadata": {},
   "outputs": [
    {
     "data": {
      "text/plain": [
       "(0.8978105783462524, 0.03752673789858818)"
      ]
     },
     "execution_count": 7,
     "metadata": {},
     "output_type": "execute_result"
    }
   ],
   "source": [
    "shapiro(df2)"
   ]
  },
  {
   "cell_type": "code",
   "execution_count": 15,
   "metadata": {},
   "outputs": [
    {
     "data": {
      "text/plain": [
       "LeveneResult(statistic=0.04810126582278468, pvalue=0.8275746090758196)"
      ]
     },
     "execution_count": 15,
     "metadata": {},
     "output_type": "execute_result"
    }
   ],
   "source": [
    "stats.levene(df1['sample'],df2['sample']) "
   ]
  },
  {
   "cell_type": "code",
   "execution_count": 18,
   "metadata": {},
   "outputs": [],
   "source": [
    "stats.levene(df1['sample'],df2['sample'])\n",
    "t_result=stats.ttest_ind(df1,df2,equal_var=True)\n",
    "t,p=t_result.statistic.round(3),t_result.pvalue.round(3)\n"
   ]
  },
  {
   "cell_type": "code",
   "execution_count": 32,
   "metadata": {
    "scrolled": true
   },
   "outputs": [
    {
     "data": {
      "image/png": "[encoded data removed]",
      "text/plain": [
       "<Figure size 432x288 with 1 Axes>"
      ]
     },
     "metadata": {
      "needs_background": "light"
     },
     "output_type": "display_data"
    }
   ],
   "source": [
    "plt.boxplot(df2)\n",
    "plt.show()"
   ]
  },
  {
   "cell_type": "code",
   "execution_count": 34,
   "metadata": {},
   "outputs": [
    {
     "data": {
      "text/plain": [
       "(0.8250620365142822, 0.05272948369383812)"
      ]
     },
     "execution_count": 34,
     "metadata": {},
     "output_type": "execute_result"
    }
   ],
   "source": [
    "df1=pd.DataFrame({'sample':[1.435,1.572,1.486,1.511,1.457,1.548,1.404,1.883]})\n",
    "df2=pd.DataFrame({'sample':[1.883,1.751,1.799,1.768,1.711,1.832,1.427,1.344]})\n",
    "\n",
    "shapiro(df2)\n",
    "\n",
    "\n",
    "\n"
   ]
  },
  {
   "cell_type": "code",
   "execution_count": 35,
   "metadata": {},
   "outputs": [
    {
     "data": {
      "text/plain": [
       "(0.7734811902046204, 0.014793740585446358)"
      ]
     },
     "execution_count": 35,
     "metadata": {},
     "output_type": "execute_result"
    }
   ],
   "source": [
    "\n",
    "shapiro(df1)\n"
   ]
  },
  {
   "cell_type": "code",
   "execution_count": 37,
   "metadata": {},
   "outputs": [
    {
     "data": {
      "text/plain": [
       "LeveneResult(statistic=0.3209938345096789, pvalue=0.5799810758175175)"
      ]
     },
     "execution_count": 37,
     "metadata": {},
     "output_type": "execute_result"
    }
   ],
   "source": [
    "stats.levene(df1['sample'],df2['sample'])\n"
   ]
  },
  {
   "cell_type": "code",
   "execution_count": 38,
   "metadata": {},
   "outputs": [
    {
     "data": {
      "text/plain": [
       "{'whiskers': [<matplotlib.lines.Line2D at 0x7f6bcb51a390>,\n",
       "  <matplotlib.lines.Line2D at 0x7f6bcb51a950>,\n",
       "  <matplotlib.lines.Line2D at 0x7f6bcb52b810>,\n",
       "  <matplotlib.lines.Line2D at 0x7f6bcb523e50>,\n",
       "  <matplotlib.lines.Line2D at 0x7f6bcb53bb50>,\n",
       "  <matplotlib.lines.Line2D at 0x7f6bcb547150>,\n",
       "  <matplotlib.lines.Line2D at 0x7f6bcb4cef50>,\n",
       "  <matplotlib.lines.Line2D at 0x7f6bcb4d6490>,\n",
       "  <matplotlib.lines.Line2D at 0x7f6bcb4e8410>,\n",
       "  <matplotlib.lines.Line2D at 0x7f6bcb523f50>,\n",
       "  <matplotlib.lines.Line2D at 0x7f6bcb4f9710>,\n",
       "  <matplotlib.lines.Line2D at 0x7f6bcb4f9c10>,\n",
       "  <matplotlib.lines.Line2D at 0x7f6bcb50ba90>,\n",
       "  <matplotlib.lines.Line2D at 0x7f6bcb50bf90>,\n",
       "  <matplotlib.lines.Line2D at 0x7f6bcb49ddd0>,\n",
       "  <matplotlib.lines.Line2D at 0x7f6bcb495f10>],\n",
       " 'caps': [<matplotlib.lines.Line2D at 0x7f6bcb51ae50>,\n",
       "  <matplotlib.lines.Line2D at 0x7f6bcb513750>,\n",
       "  <matplotlib.lines.Line2D at 0x7f6bcb523890>,\n",
       "  <matplotlib.lines.Line2D at 0x7f6bcb533710>,\n",
       "  <matplotlib.lines.Line2D at 0x7f6bcb5475d0>,\n",
       "  <matplotlib.lines.Line2D at 0x7f6bcb547ad0>,\n",
       "  <matplotlib.lines.Line2D at 0x7f6bcb4d6990>,\n",
       "  <matplotlib.lines.Line2D at 0x7f6bcb4d6e90>,\n",
       "  <matplotlib.lines.Line2D at 0x7f6bcb4e8d50>,\n",
       "  <matplotlib.lines.Line2D at 0x7f6bcb53bbd0>,\n",
       "  <matplotlib.lines.Line2D at 0x7f6bcb4f1cd0>,\n",
       "  <matplotlib.lines.Line2D at 0x7f6bcb502650>,\n",
       "  <matplotlib.lines.Line2D at 0x7f6bcb495490>,\n",
       "  <matplotlib.lines.Line2D at 0x7f6bcb495990>,\n",
       "  <matplotlib.lines.Line2D at 0x7f6bcb4a6810>,\n",
       "  <matplotlib.lines.Line2D at 0x7f6bcb4a6d10>],\n",
       " 'boxes': [<matplotlib.lines.Line2D at 0x7f6bcb513710>,\n",
       "  <matplotlib.lines.Line2D at 0x7f6bcb51aed0>,\n",
       "  <matplotlib.lines.Line2D at 0x7f6bcb53b5d0>,\n",
       "  <matplotlib.lines.Line2D at 0x7f6bcb4ce9d0>,\n",
       "  <matplotlib.lines.Line2D at 0x7f6bcb4dfd50>,\n",
       "  <matplotlib.lines.Line2D at 0x7f6bcb4f9250>,\n",
       "  <matplotlib.lines.Line2D at 0x7f6bcb50b510>,\n",
       "  <matplotlib.lines.Line2D at 0x7f6bcb49d850>],\n",
       " 'medians': [<matplotlib.lines.Line2D at 0x7f6bcb5238d0>,\n",
       "  <matplotlib.lines.Line2D at 0x7f6bcb533c10>,\n",
       "  <matplotlib.lines.Line2D at 0x7f6bcb547b90>,\n",
       "  <matplotlib.lines.Line2D at 0x7f6bcb547b50>,\n",
       "  <matplotlib.lines.Line2D at 0x7f6bcb4f1750>,\n",
       "  <matplotlib.lines.Line2D at 0x7f6bcb502b50>,\n",
       "  <matplotlib.lines.Line2D at 0x7f6bcb495e90>,\n",
       "  <matplotlib.lines.Line2D at 0x7f6bcb49de50>],\n",
       " 'fliers': [<matplotlib.lines.Line2D at 0x7f6bcb523dd0>,\n",
       "  <matplotlib.lines.Line2D at 0x7f6bcb52bd50>,\n",
       "  <matplotlib.lines.Line2D at 0x7f6bcb4ce550>,\n",
       "  <matplotlib.lines.Line2D at 0x7f6bcb4df8d0>,\n",
       "  <matplotlib.lines.Line2D at 0x7f6bcb4f1c50>,\n",
       "  <matplotlib.lines.Line2D at 0x7f6bcb4f9c90>,\n",
       "  <matplotlib.lines.Line2D at 0x7f6bcb4f1e10>,\n",
       "  <matplotlib.lines.Line2D at 0x7f6bcb4ad750>],\n",
       " 'means': []}"
      ]
     },
     "execution_count": 38,
     "metadata": {},
     "output_type": "execute_result"
    },
    {
     "data": {
      "image/png": "[encoded data removed]",
      "text/plain": [
       "<Figure size 432x288 with 1 Axes>"
      ]
     },
     "metadata": {
      "needs_background": "light"
     },
     "output_type": "display_data"
    }
   ],
   "source": []
  },
  {
   "cell_type": "code",
   "execution_count": 44,
   "metadata": {},
   "outputs": [
    {
     "name": "stdout",
     "output_type": "stream",
     "text": [
      "paried t-test\n",
      "t[-5.324]\n",
      "p[0.]\n"
     ]
    }
   ],
   "source": [
    "df1=pd.DataFrame({'before':[720,589,780,648,720,589,780,648,780,648]})\n",
    "df2=pd.DataFrame({'after':[810,670,790,712,810,670,790,712,790,712]})\n",
    "\n",
    "t_result=stats.ttest_rel(df1,df2)\n",
    "t,p=t_result.statistic.round(3),t_result.pvalue.round(3)\n",
    "print(\"paried t-test\")\n",
    "print(\"t{}\".format(t))\n",
    "print(\"p{}\".format(p))"
   ]
  },
  {
   "cell_type": "code",
   "execution_count": 47,
   "metadata": {},
   "outputs": [
    {
     "name": "stdout",
     "output_type": "stream",
     "text": [
      "paried t-test\n",
      "t[-2.266]\n",
      "p[0.05]\n"
     ]
    }
   ],
   "source": [
    "df1=pd.DataFrame({'before':[720,589,780,648,720,589,780,648,780,648]})\n",
    "df2=pd.DataFrame({'after':[710,580,787,712,750,600,782,670,790,680]})\n",
    "\n",
    "t_result=stats.ttest_rel(df1,df2)\n",
    "t,p=t_result.statistic.round(3),t_result.pvalue.round(3)\n",
    "print(\"paried t-test\")\n",
    "print(\"t{}\".format(t))\n",
    "print(\"p{}\".format(p))"
   ]
  },
  {
   "cell_type": "code",
   "execution_count": 61,
   "metadata": {},
   "outputs": [
    {
     "name": "stdout",
     "output_type": "stream",
     "text": [
      "1 proportion test\n",
      "z:14.002800840280093\n",
      "p:1.4984678147052802e-44\n"
     ]
    }
   ],
   "source": [
    "count=1500\n",
    "n_obs=10000\n",
    "value=0.1\n",
    "\n",
    "stat,pval=proportions_ztest(count,n_obs,value)\n",
    "print(\"1 proportion test\")\n",
    "print(\"z:{0}\".format(stat))\n",
    "print(\"p:{0}\".format(pval))"
   ]
  },
  {
   "cell_type": "code",
   "execution_count": 63,
   "metadata": {},
   "outputs": [
    {
     "name": "stdout",
     "output_type": "stream",
     "text": [
      "선택된 Activity:  [[1, 1, 3], [3, 4, 7], [6, 8, 10], [8, 11, 14]]\n",
      "선택된 Activity Number:  [1, 3, 6, 8]\n"
     ]
    }
   ],
   "source": [
    "activity = [[1,1,3], [2,2,5], [3,4,7], [4,1,8], [5,5,9], [6,8,10], [7,9,11], [8,11,14], [9,13,16]]\n",
    "\n",
    "def activitySelection(act):\n",
    "    result = []\n",
    "\n",
    "    sortedAct = sorted(act, key=lambda x: x[2])\n",
    "\n",
    "    last = 0    \n",
    "    for i in sortedAct:\n",
    "        if last < i[1]:\n",
    "            result.append(i)\n",
    "            last = i[2]\n",
    "\n",
    "    print(\"선택된 Activity: \", result)\n",
    "    result = list(map(lambda x: x[0], result))\n",
    "    return result\n",
    "\n",
    "print(\"선택된 Activity Number: \", activitySelection(activity))\n"
   ]
  },
  {
   "cell_type": "code",
   "execution_count": 64,
   "metadata": {},
   "outputs": [
    {
     "name": "stdout",
     "output_type": "stream",
     "text": [
      "1 proportion test\n",
      "z:-2.0412414523193148\n",
      "p:0.0412268333371637\n"
     ]
    }
   ],
   "source": [
    "count=40\n",
    "n_obs=100\n",
    "value=0.5\n",
    "\n",
    "stat,pval=proportions_ztest(count,n_obs,value)\n",
    "print(\"1 proportion test\")\n",
    "print(\"z:{0}\".format(stat))\n",
    "print(\"p:{0}\".format(pval))"
   ]
  },
  {
   "cell_type": "code",
   "execution_count": 67,
   "metadata": {},
   "outputs": [
    {
     "name": "stdout",
     "output_type": "stream",
     "text": [
      "2proportion test\n",
      "z: 1.553109404737079\n",
      "p: 0.0412268333371637\n"
     ]
    }
   ],
   "source": [
    "count=np.array([4,1])\n",
    "nobs=np.array([1000,1200])\n",
    "\n",
    "stat,prval=proportions_ztest(count,nobs)\n",
    "\n",
    "print(\"2proportion test\")\n",
    "print(\"z: {}\".format(stat))\n",
    "print(\"p: {}\".format(pval))\n"
   ]
  },
  {
   "cell_type": "code",
   "execution_count": 68,
   "metadata": {},
   "outputs": [
    {
     "name": "stdout",
     "output_type": "stream",
     "text": [
      "2proportion test\n",
      "z: 2.0729633895345208\n",
      "p: 0.0412268333371637\n"
     ]
    }
   ],
   "source": [
    "count=np.array([14,5])\n",
    "nobs=np.array([1200,1200])\n",
    "\n",
    "stat,prval=proportions_ztest(count,nobs)\n",
    "\n",
    "print(\"2proportion test\")\n",
    "print(\"z: {}\".format(stat))\n",
    "print(\"p: {}\".format(pval))\n"
   ]
  },
  {
   "cell_type": "code",
   "execution_count": 70,
   "metadata": {},
   "outputs": [
    {
     "name": "stdout",
     "output_type": "stream",
     "text": [
      "chi-square test\n",
      "chisq:98.274\n",
      "p:0.000\n",
      "degree pf freedom:30 \n",
      "expected value :\n",
      "[[11.004  8.21   5.24   3.843  1.921  9.782]\n",
      " [ 8.528  6.362  4.061  2.978  1.489  7.581]\n",
      " [10.454  7.799  4.978  3.651  1.825  9.293]\n",
      " [ 8.253  6.157  3.93   2.882  1.441  7.336]\n",
      " [ 7.978  5.952  3.799  2.786  1.393  7.092]\n",
      " [ 8.803  6.568  4.192  3.074  1.537  7.825]\n",
      " [ 7.978  5.952  3.799  2.786  1.393  7.092]]\n"
     ]
    }
   ],
   "source": [
    "df=pd.DataFrame({'a/s':[18,8,4,4,3,3],'가격':[1,2,1,1,1,25],'성능':[8,14,3,2,3,8],'확장성':[7,5,4,3,1,10]\n",
    "                ,'디자인':[10,5,9,2,1,2],'안정성':[9,9,5,7,1,1],'기능성':[10,4,4,3,1,7]})\n",
    "\n",
    "chi,pval,dof,expected=stats.chi2_contingency(df.T)\n",
    "print(\"chi-square test\")\n",
    "print(\"chisq:{0:0.3f}\".format(chi))\n",
    "print(\"p:{0:0.3f}\".format(pval)) #피밸류가 0이라는 의미는 대립가설을 채택해도 틀릴가능성이 0%\n",
    "print(\"degree pf freedom:{} \".format(dof))\n",
    "print(\"expected value :\\n{}\".format(expected.round(3)))#적합도 검증은 단측검증만 한다]\\"
   ]
  },
  {
   "cell_type": "code",
   "execution_count": 3,
   "metadata": {},
   "outputs": [
    {
     "data": {
      "text/plain": [
       "<matplotlib.axes._subplots.AxesSubplot at 0x7fa64f85f250>"
      ]
     },
     "execution_count": 3,
     "metadata": {},
     "output_type": "execute_result"
    },
    {
     "data": {
      "image/png": "[encoded data removed]",
      "text/plain": [
       "<Figure size 432x288 with 1 Axes>"
      ]
     },
     "metadata": {
      "needs_background": "light"
     },
     "output_type": "display_data"
    }
   ],
   "source": [
    "df=pd.DataFrame({'A':[892,623,721,678,723,790,720,670,690,771],\n",
    "                 'B':[721,821,910,678,723,790,711,790,745,891],\n",
    "                 'C':[621,915,888,721,894,834,841,912,845,889]})\n",
    "\n",
    "df.boxplot(['A','B','C'])"
   ]
  },
  {
   "cell_type": "code",
   "execution_count": 4,
   "metadata": {},
   "outputs": [
    {
     "ename": "NameError",
     "evalue": "name 'f_result' is not defined",
     "output_type": "error",
     "traceback": [
      "\u001b[0;31m---------------------------------------------------------------------------\u001b[0m",
      "\u001b[0;31mNameError\u001b[0m                                 Traceback (most recent call last)",
      "\u001b[0;32m<ipython-input-4-e044ab9ecf4c>\u001b[0m in \u001b[0;36m<module>\u001b[0;34m\u001b[0m\n\u001b[1;32m      1\u001b[0m \u001b[0mt_result\u001b[0m\u001b[0;34m=\u001b[0m\u001b[0mstats\u001b[0m\u001b[0;34m.\u001b[0m\u001b[0mf_oneway\u001b[0m\u001b[0;34m(\u001b[0m\u001b[0mdf\u001b[0m\u001b[0;34m[\u001b[0m\u001b[0;34m'A'\u001b[0m\u001b[0;34m]\u001b[0m\u001b[0;34m,\u001b[0m\u001b[0mdf\u001b[0m\u001b[0;34m[\u001b[0m\u001b[0;34m'B'\u001b[0m\u001b[0;34m]\u001b[0m\u001b[0;34m,\u001b[0m\u001b[0mdf\u001b[0m\u001b[0;34m[\u001b[0m\u001b[0;34m'C'\u001b[0m\u001b[0;34m]\u001b[0m\u001b[0;34m)\u001b[0m\u001b[0;34m\u001b[0m\u001b[0;34m\u001b[0m\u001b[0m\n\u001b[0;32m----> 2\u001b[0;31m \u001b[0mf\u001b[0m\u001b[0;34m,\u001b[0m\u001b[0mp\u001b[0m\u001b[0;34m=\u001b[0m\u001b[0mf_result\u001b[0m\u001b[0;34m.\u001b[0m\u001b[0mstatisc\u001b[0m\u001b[0;34m.\u001b[0m\u001b[0mround\u001b[0m\u001b[0;34m(\u001b[0m\u001b[0;36m3\u001b[0m\u001b[0;34m)\u001b[0m\u001b[0;34m,\u001b[0m\u001b[0mf_result\u001b[0m\u001b[0;34m.\u001b[0m\u001b[0mprvalue\u001b[0m\u001b[0;34m.\u001b[0m\u001b[0mround\u001b[0m\u001b[0;34m(\u001b[0m\u001b[0;36m3\u001b[0m\u001b[0;34m)\u001b[0m\u001b[0;34m\u001b[0m\u001b[0;34m\u001b[0m\u001b[0m\n\u001b[0m\u001b[1;32m      3\u001b[0m \u001b[0mprint\u001b[0m\u001b[0;34m(\u001b[0m\u001b[0;34m\"one-way\"\u001b[0m\u001b[0;34m)\u001b[0m\u001b[0;34m\u001b[0m\u001b[0;34m\u001b[0m\u001b[0m\n\u001b[1;32m      4\u001b[0m \u001b[0mprint\u001b[0m\u001b[0;34m(\u001b[0m\u001b[0;34m\"F통계량:{}\"\u001b[0m\u001b[0;34m.\u001b[0m\u001b[0mformat\u001b[0m\u001b[0;34m(\u001b[0m\u001b[0mf\u001b[0m\u001b[0;34m)\u001b[0m\u001b[0;34m)\u001b[0m\u001b[0;34m\u001b[0m\u001b[0;34m\u001b[0m\u001b[0m\n\u001b[1;32m      5\u001b[0m \u001b[0mprint\u001b[0m\u001b[0;34m(\u001b[0m\u001b[0;34m\"p통계량:{}\"\u001b[0m\u001b[0;34m.\u001b[0m\u001b[0mformat\u001b[0m\u001b[0;34m(\u001b[0m\u001b[0mp\u001b[0m\u001b[0;34m)\u001b[0m\u001b[0;34m)\u001b[0m\u001b[0;34m\u001b[0m\u001b[0;34m\u001b[0m\u001b[0m\n",
      "\u001b[0;31mNameError\u001b[0m: name 'f_result' is not defined"
     ]
    }
   ],
   "source": [
    "t_result=stats.f_oneway(df['A'],df['B'],df['C'])\n",
    "f,p=f_result.statisc.round(3),f_result.prvalue.round(3)\n",
    "print(\"one-way\")\n",
    "print(\"F통계량:{}\".format(f))\n",
    "print(\"p통계량:{}\".format(p))"
   ]
  },
  {
   "cell_type": "code",
   "execution_count": 7,
   "metadata": {},
   "outputs": [
    {
     "name": "stdout",
     "output_type": "stream",
     "text": [
      "Correlation Analysis\n",
      "corr:0.989\n",
      "p-value:0.000\n"
     ]
    }
   ],
   "source": [
    "df1=[1,2,3,4,4,5,6,6,7,8]\n",
    "df2=[23,29,49,64,74,87,96,97,109,119]\n",
    "\n",
    "corr,pval= stats.pearsonr(df1,df2)\n",
    "\n",
    "print(\"Correlation Analysis\")\n",
    "print(\"corr:{0:0.3f}\".format(corr))\n",
    "print(\"p-value:{0:0.3f}\".format(pval))"
   ]
  },
  {
   "cell_type": "code",
   "execution_count": 32,
   "metadata": {
    "scrolled": true
   },
   "outputs": [
    {
     "name": "stdout",
     "output_type": "stream",
     "text": [
      "                            OLS Regression Results                            \n",
      "==============================================================================\n",
      "Dep. Variable:                      y   R-squared:                       0.979\n",
      "Model:                            OLS   Adj. R-squared:                  0.976\n",
      "Method:                 Least Squares   F-statistic:                     365.3\n",
      "Date:                Thu, 23 Jan 2020   Prob (F-statistic):           5.82e-08\n",
      "Time:                        15:54:59   Log-Likelihood:                -29.401\n",
      "No. Observations:                  10   AIC:                             62.80\n",
      "Df Residuals:                       8   BIC:                             63.41\n",
      "Df Model:                           1                                         \n",
      "Covariance Type:            nonrobust                                         \n",
      "==============================================================================\n",
      "                 coef    std err          t      P>|t|      [0.025      0.975]\n",
      "------------------------------------------------------------------------------\n",
      "const          7.1712      3.886      1.845      0.102      -1.791      16.133\n",
      "x1            14.6802      0.768     19.112      0.000      12.909      16.451\n",
      "==============================================================================\n",
      "Omnibus:                        0.118   Durbin-Watson:                   1.283\n",
      "Prob(Omnibus):                  0.943   Jarque-Bera (JB):                0.241\n",
      "Skew:                           0.191   Prob(JB):                        0.886\n",
      "Kurtosis:                       2.343   Cond. No.                         12.5\n",
      "==============================================================================\n",
      "\n",
      "Warnings:\n",
      "[1] Standard Errors assume that the covariance matrix of the errors is correctly specified.\n"
     ]
    }
   ],
   "source": [
    "MINUTES=[1,2,3,4,4,5,6,6,7,8]\n",
    "UNITS=[23,29,49,64,74,87,96,97,109,119]\n",
    "\n",
    "MINUTES=sm.add_constant(MINUTES)\n",
    "model=sm.OLS(UNITS,MINUTES)\n",
    "result=model.fit()\n",
    "print(result.summary())"
   ]
  },
  {
   "cell_type": "code",
   "execution_count": 34,
   "metadata": {},
   "outputs": [
    {
     "data": {
      "text/plain": [
       "(0.9653438329696655, 0.8446419835090637)"
      ]
     },
     "execution_count": 34,
     "metadata": {},
     "output_type": "execute_result"
    },
    {
     "data": {
      "image/png": "[encoded data removed]",
      "text/plain": [
       "<Figure size 432x288 with 1 Axes>"
      ]
     },
     "metadata": {
      "needs_background": "light"
     },
     "output_type": "display_data"
    }
   ],
   "source": [
    "plt.hist(result.resid)\n",
    "shapiro(result.resid)"
   ]
  },
  {
   "cell_type": "code",
   "execution_count": 36,
   "metadata": {
    "scrolled": true
   },
   "outputs": [
    {
     "data": {
      "text/plain": [
       "<matplotlib.lines.Line2D at 0x7fa633017890>"
      ]
     },
     "execution_count": 36,
     "metadata": {},
     "output_type": "execute_result"
    },
    {
     "data": {
      "image/png": "[encoded data removed]",
      "text/plain": [
       "<Figure size 432x288 with 1 Axes>"
      ]
     },
     "metadata": {
      "needs_background": "light"
     },
     "output_type": "display_data"
    }
   ],
   "source": [
    "plt.scatter(result.fittedvalues,result.resid)\n",
    "plt.xlabel(\"fitted value\")\n",
    "plt.ylabel(\"residual\")\n",
    "plt.axhline(y=0,linestyle=\"--\")"
   ]
  },
  {
   "cell_type": "code",
   "execution_count": 39,
   "metadata": {},
   "outputs": [
    {
     "data": {
      "text/plain": [
       "<matplotlib.lines.Line2D at 0x7fa632ecc610>"
      ]
     },
     "execution_count": 39,
     "metadata": {},
     "output_type": "execute_result"
    },
    {
     "data": {
      "image/png": "[encoded data removed]",
      "text/plain": [
       "<Figure size 432x288 with 1 Axes>"
      ]
     },
     "metadata": {
      "needs_background": "light"
     },
     "output_type": "display_data"
    }
   ],
   "source": [
    "plt.scatter(range(0,10),result.resid,marker=\"o\")\n",
    "plt.xlabel(\"Data\")\n",
    "plt.ylabel(\"residual\")\n",
    "plt.axhline(y=0,linestyle=\"-\")\n",
    "plt.axhline(y=3*np.std(result.resid),linestyle=\"--\")\n",
    "plt.axhline(y=-3*np.std(result.resid),linestyle=\"--\")"
   ]
  }
 ],
 "metadata": {
  "kernelspec": {
   "display_name": "Python 3",
   "language": "python",
   "name": "python3"
  },
  "language_info": {
   "codemirror_mode": {
    "name": "ipython",
    "version": 3
   },
   "file_extension": ".py",
   "mimetype": "text/x-python",
   "name": "python",
   "nbconvert_exporter": "python",
   "pygments_lexer": "ipython3",
   "version": "3.7.4"
  }
 },
 "nbformat": 4,
 "nbformat_minor": 2
}
